{
 "cells": [
  {
   "cell_type": "code",
   "execution_count": null,
   "metadata": {},
   "outputs": [],
   "source": [
    "import polars as pl\n",
    ">>> df = pl.DataFrame(\n",
    "...     {\n",
    "...         \"A\": [1, 2, 3, 4, 5],\n",
    "...         \"fruits\": [\"banana\", \"banana\", \"apple\", \"apple\", \"banana\"],\n",
    "...         \"B\": [5, 4, 3, 2, 1],\n",
    "...         \"cars\": [\"beetle\", \"audi\", \"beetle\", \"beetle\", \"beetle\"],\n",
    "...     }\n",
    "... )"
   ]
  },
  {
   "cell_type": "code",
   "execution_count": null,
   "metadata": {},
   "outputs": [],
   "source": [
    "df.sort(\"fruits\").select(\n",
    "...     [\n",
    "...         \"fruits\",\n",
    "...         \"cars\",\n",
    "...         pl.lit(\"fruits\").alias(\"literal_string_fruits\"),\n",
    "...         pl.col(\"B\").filter(pl.col(\"cars\") == \"beetle\").sum(),\n",
    "...         pl.col(\"A\").filter(pl.col(\"B\") > 2).sum().over(\"cars\").alias(\"sum_A_by_cars\"),\n",
    "...         pl.col(\"A\").sum().over(\"fruits\").alias(\"sum_A_by_fruits\"),\n",
    "...         pl.col(\"A\").reverse().over(\"fruits\").alias(\"rev_A_by_fruits\"),\n",
    "...         pl.col(\"A\").sort_by(\"B\").over(\"fruits\").alias(\"sort_A_by_B_by_fruits\"),\n",
    "...     ]\n",
    "... )"
   ]
  },
  {
   "cell_type": "code",
   "execution_count": null,
   "metadata": {},
   "outputs": [],
   "source": [
    "df = pl.read_csv(\"https://j.mp/iriscsv\")\n",
    "print(df.filter(pl.col(\"sepal_length\") > 5)\n",
    "      .groupby(\"species\", maintain_order=True)\n",
    "      .agg(pl.all().sum())\n",
    ")"
   ]
  },
  {
   "attachments": {},
   "cell_type": "markdown",
   "metadata": {},
   "source": [
    "## User Guide:\n",
    "  * https://pola-rs.github.io/polars-book/user-guide/quickstart/intro.html"
   ]
  },
  {
   "cell_type": "code",
   "execution_count": null,
   "metadata": {},
   "outputs": [],
   "source": [
    "print(\n",
    "    pl.read_csv(\"https://j.mp/iriscsv\")\n",
    "    .lazy()\n",
    "    .filter(pl.col(\"sepal_length\") > 5)\n",
    "    .groupby(\"species\", maintain_order=True)\n",
    "    .agg(pl.all().sum())\n",
    "    .collect()\n",
    ")"
   ]
  },
  {
   "cell_type": "code",
   "execution_count": null,
   "metadata": {},
   "outputs": [],
   "source": [
    "(\n",
    "    df.lazy()\n",
    "    .filter(pl.col(\"sepal_length\") > 5)\n",
    "    .groupby(\"species\", maintain_order=True)\n",
    "    .agg(pl.all().sum())\n",
    "    .collect()\n",
    ")"
   ]
  },
  {
   "attachments": {},
   "cell_type": "markdown",
   "metadata": {},
   "source": [
    "## Selecting data\n",
    "  * https://pola-rs.github.io/polars-book/user-guide/howcani/selecting_data/selecting_data_expressions.html"
   ]
  },
  {
   "cell_type": "code",
   "execution_count": null,
   "metadata": {},
   "outputs": [],
   "source": [
    "df = pl.DataFrame(\n",
    "    {\n",
    "        \"id\": [1, 2, 3],\n",
    "        \"color\": [\"blue\", \"red\", \"green\"],\n",
    "        \"size\": [\"small\", \"medium\", \"large\"],\n",
    "    }\n",
    ")\n",
    "print(df)\n"
   ]
  },
  {
   "cell_type": "code",
   "execution_count": null,
   "metadata": {},
   "outputs": [],
   "source": [
    "filter_df = df.filter(pl.col(\"id\") <= 2)\n",
    "print(filter_df)\n"
   ]
  },
  {
   "cell_type": "code",
   "execution_count": null,
   "metadata": {},
   "outputs": [],
   "source": [
    "multi_filter_df = df.filter((pl.col(\"id\") <= 2) & (pl.col(\"size\") == \"small\"))\n",
    "print(multi_filter_df)\n"
   ]
  },
  {
   "attachments": {},
   "cell_type": "markdown",
   "metadata": {},
   "source": [
    "### Selecting columns with the select method"
   ]
  },
  {
   "cell_type": "code",
   "execution_count": null,
   "metadata": {},
   "outputs": [],
   "source": [
    "single_select_df = df.select(\"id\")\n",
    "print(single_select_df)\n"
   ]
  },
  {
   "cell_type": "code",
   "execution_count": null,
   "metadata": {},
   "outputs": [],
   "source": [
    "list_select_df = df.select([\"id\", \"color\"])\n",
    "print(list_select_df)\n"
   ]
  },
  {
   "cell_type": "code",
   "execution_count": null,
   "metadata": {},
   "outputs": [],
   "source": [
    "list_select_df = df.select([\"id\", \"color\"])\n",
    "print(list_select_df)\n"
   ]
  },
  {
   "cell_type": "code",
   "execution_count": null,
   "metadata": {},
   "outputs": [],
   "source": [
    "dtype_select_df = df.select(pl.col(pl.Int64))\n",
    "print(dtype_select_df)\n"
   ]
  },
  {
   "attachments": {},
   "cell_type": "markdown",
   "metadata": {},
   "source": [
    "### Selecting rows and columns"
   ]
  },
  {
   "cell_type": "code",
   "execution_count": null,
   "metadata": {},
   "outputs": [],
   "source": [
    "expression_df = df.filter(pl.col(\"id\") <= 2).select([\"id\", \"color\"])\n",
    "print(expression_df)\n"
   ]
  },
  {
   "cell_type": "code",
   "execution_count": null,
   "metadata": {},
   "outputs": [],
   "source": [
    "df = pl.DataFrame(\n",
    "    {\n",
    "        \"A\": [1, 2, 3, 4, 5],\n",
    "        \"fruits\": [\"banana\", \"banana\", \"apple\", \"apple\", \"banana\"],\n",
    "        \"B\": [5, 4, 3, 2, 1],\n",
    "        \"cars\": [\"beetle\", \"audi\", \"beetle\", \"beetle\", \"beetle\"],\n",
    "        \"optional\": [28, 300, None, 2, -30],\n",
    "    }\n",
    ")\n",
    "df\n"
   ]
  },
  {
   "cell_type": "code",
   "execution_count": null,
   "metadata": {},
   "outputs": [],
   "source": [
    "# We can select by name\n",
    "\n",
    "(df.select([\n",
    "    pl.col(\"A\"),\n",
    "    \"B\",      # the col part is inferred\n",
    "    pl.lit(\"B\"),  # we must tell polars we mean the literal \"B\"\n",
    "    pl.col(\"fruits\"),\n",
    "]))\n"
   ]
  },
  {
   "attachments": {},
   "cell_type": "markdown",
   "metadata": {},
   "source": [
    "## Regex -- Column Starts with A and ends with B "
   ]
  },
  {
   "cell_type": "code",
   "execution_count": null,
   "metadata": {},
   "outputs": [],
   "source": [
    "# you can select columns with a regex if it starts with '^' and ends with '$'\n",
    "\n",
    "(df.select([\n",
    "    pl.col(\"^A|B$\").sum()\n",
    "]))\n"
   ]
  },
  {
   "cell_type": "code",
   "execution_count": null,
   "metadata": {},
   "outputs": [],
   "source": [
    "# We select everything in normal order\n",
    "# Then we select everything in reversed order\n",
    "\n",
    "(df.select([\n",
    "    pl.all(),\n",
    "    pl.all().reverse().suffix(\"_reverse\")\n",
    "]))\n"
   ]
  },
  {
   "attachments": {},
   "cell_type": "markdown",
   "metadata": {},
   "source": [
    "### Folds\n",
    "Polars provides expressions/methods for horizontal aggregations like sum, min, mean, etc. by setting the argument axis=1. However, when you need a more complex aggregation the default methods provided by the Polars library may not be sufficient. That's when folds come in handy.\n",
    "\n",
    "The Polars fold expression operates on columns for maximum speed. It utilizes the data layout very efficiently and often has vectorized execution.\n",
    "\n",
    "Let's start with an example by implementing the sum operation ourselves, with a fold."
   ]
  },
  {
   "cell_type": "code",
   "execution_count": null,
   "metadata": {},
   "outputs": [],
   "source": [
    "df = pl.DataFrame(\n",
    "    {\n",
    "        \"a\": [1, 2, 3],\n",
    "        \"b\": [10, 20, 30],\n",
    "    }\n",
    ")\n",
    "\n",
    "out = df.select(\n",
    "    pl.fold(acc=pl.lit(0), f=lambda acc, x: acc + x, exprs=pl.col(\"*\")).alias(\"sum\"),\n",
    ")\n",
    "print(out)\n"
   ]
  },
  {
   "cell_type": "code",
   "execution_count": null,
   "metadata": {},
   "outputs": [],
   "source": [
    "df = pl.DataFrame(\n",
    "    {\n",
    "        \"a\": [1, 2, 3],\n",
    "        \"b\": [0, 1, 2],\n",
    "    }\n",
    ")\n",
    "\n",
    "out = df.filter(\n",
    "    pl.fold(\n",
    "        acc=pl.lit(True),\n",
    "        f=lambda acc, x: acc & x,\n",
    "        exprs=pl.col(\"*\") > 1,\n",
    "    )\n",
    ")\n",
    "print(out)\n"
   ]
  },
  {
   "cell_type": "code",
   "execution_count": null,
   "metadata": {},
   "outputs": [],
   "source": [
    "url = 'https://theunitedstates.io/congress-legislators/legislators-current.csv'\n",
    "dtypes = {\n",
    "    \"first_name\": pl.Categorical,\n",
    "    \"gender\": pl.Categorical,\n",
    "    \"type\": pl.Categorical,\n",
    "    \"state\": pl.Categorical,\n",
    "    \"party\": pl.Categorical,\n",
    "}\n",
    "\n",
    "dataset = pl.read_csv(url, dtypes=dtypes).with_column(pl.col(\"birthday\").str.strptime(pl.Date, strict=False))\n"
   ]
  },
  {
   "cell_type": "code",
   "execution_count": null,
   "metadata": {},
   "outputs": [],
   "source": [
    "#from .dataset import dataset\n",
    "\n",
    "q = (\n",
    "    dataset.lazy()\n",
    "    .groupby(\"first_name\")\n",
    "    .agg(\n",
    "        [\n",
    "            pl.count(),\n",
    "            pl.col(\"gender\").list(),\n",
    "            pl.first(\"last_name\"),\n",
    "        ]\n",
    "    )\n",
    "    .sort(\"count\", reverse=True)\n",
    "    .limit(5)\n",
    ")\n",
    "\n",
    "df = q.collect()"
   ]
  },
  {
   "cell_type": "code",
   "execution_count": null,
   "metadata": {},
   "outputs": [],
   "source": [
    "q = (\n",
    "    dataset.lazy()\n",
    "    .groupby(\"state\")\n",
    "    .agg(\n",
    "        [\n",
    "            (pl.col(\"party\") == \"Anti-Administration\").sum().alias(\"anti\"),\n",
    "            (pl.col(\"party\") == \"Pro-Administration\").sum().alias(\"pro\"),\n",
    "        ]\n",
    "    )\n",
    "    .sort(\"pro\", reverse=True)\n",
    "    .limit(5)\n",
    ")\n",
    "\n",
    "df = q.collect()"
   ]
  },
  {
   "cell_type": "code",
   "execution_count": null,
   "metadata": {},
   "outputs": [],
   "source": [
    "df.head(5)"
   ]
  },
  {
   "cell_type": "code",
   "execution_count": null,
   "metadata": {},
   "outputs": [],
   "source": [
    "q = (\n",
    "    dataset.lazy()\n",
    "    .groupby([\"state\", \"party\"])\n",
    "    .agg([pl.count(\"party\").alias(\"count\")])\n",
    "    .filter((pl.col(\"party\") == \"Anti-Administration\") | (pl.col(\"party\") == \"Pro-Administration\"))\n",
    "    .sort(\"count\", reverse=True)\n",
    "    .limit(5)\n",
    ")\n",
    "\n",
    "df = q.collect()"
   ]
  },
  {
   "cell_type": "code",
   "execution_count": null,
   "metadata": {},
   "outputs": [],
   "source": [
    "df.head()"
   ]
  },
  {
   "cell_type": "code",
   "execution_count": null,
   "metadata": {},
   "outputs": [],
   "source": [
    "import polars as pl\n",
    "\n",
    "# then let's load some csv data with information about pokemon\n",
    "df = pl.read_csv(\n",
    "    \"https://gist.githubusercontent.com/ritchie46/cac6b337ea52281aa23c049250a4ff03/raw/89a957ff3919d90e6ef2d34235e6bf22304f3366/pokemon.csv\"\n",
    ")\n"
   ]
  },
  {
   "cell_type": "code",
   "execution_count": null,
   "metadata": {},
   "outputs": [],
   "source": [
    "df.head(5)"
   ]
  },
  {
   "cell_type": "code",
   "execution_count": null,
   "metadata": {},
   "outputs": [],
   "source": [
    "out = df.select(\n",
    "    [\n",
    "        \"Type 1\",\n",
    "        \"Type 2\",\n",
    "        pl.col(\"Attack\").mean().over(\"Type 1\").alias(\"avg_attack_by_type\"),\n",
    "        pl.col(\"Defense\").mean().over([\"Type 1\", \"Type 2\"]).alias(\"avg_defense_by_type_combination\"),\n",
    "        pl.col(\"Attack\").mean().alias(\"avg_attack\"),\n",
    "    ]\n",
    ")\n"
   ]
  },
  {
   "cell_type": "code",
   "execution_count": null,
   "metadata": {},
   "outputs": [],
   "source": [
    "out.head(5)"
   ]
  },
  {
   "cell_type": "code",
   "execution_count": null,
   "metadata": {},
   "outputs": [],
   "source": [
    "filtered = df.filter(pl.col(\"Type 2\") == \"Psychic\").select(\n",
    "    [\n",
    "        \"Name\",\n",
    "        \"Type 1\",\n",
    "        \"Speed\",\n",
    "    ]\n",
    ")\n",
    "print(filtered)\n"
   ]
  },
  {
   "cell_type": "code",
   "execution_count": null,
   "metadata": {},
   "outputs": [],
   "source": [
    "out = filtered.with_columns(\n",
    "    [\n",
    "        pl.col([\"Name\", \"Speed\"]).sort(reverse=True).over(\"Type 1\"),\n",
    "    ]\n",
    ")\n",
    "print(out)\n"
   ]
  },
  {
   "cell_type": "code",
   "execution_count": null,
   "metadata": {},
   "outputs": [],
   "source": [
    "# aggregate and broadcast within a group\n",
    "# output type: -> Int32\n",
    "pl.sum(\"foo\").over(\"groups\")\n",
    "\n",
    "# sum within a group and multiply with group elements\n",
    "# output type: -> Int32\n",
    "(pl.col(\"x\").sum() * pl.col(\"y\")).over(\"groups\")\n",
    "\n",
    "# sum within a group and multiply with group elements \n",
    "# and aggregate the group to a list\n",
    "# output type: -> List(Int32)\n",
    "(pl.col(\"x\").sum() * pl.col(\"y\")).list().over(\"groups\")\n",
    "\n",
    "# note that it will require an explicit `list()` call\n",
    "# sum within a group and multiply with group elements \n",
    "# and aggregate the group to a list\n",
    "# the flatten call explodes that list\n",
    "\n",
    "# This is the fastest method to do things over groups when the groups are sorted\n",
    "(pl.col(\"x\").sum() * pl.col(\"y\")).list().over(\"groups\").flatten()\n"
   ]
  },
  {
   "cell_type": "code",
   "execution_count": null,
   "metadata": {},
   "outputs": [],
   "source": [
    "import polars as pl\n",
    "import pandas as pd"
   ]
  },
  {
   "cell_type": "code",
   "execution_count": null,
   "metadata": {},
   "outputs": [],
   "source": [
    "df = pd.DataFrame({\n",
    "    \"type\": [\"m\", \"n\", \"o\", \"m\", \"m\", \"n\", \"n\"],\n",
    "    \"c\": [1, 1, 1, 2, 2, 2, 2],\n",
    "})\n",
    "\n",
    "df[\"size\"] = df.groupby(\"c\")[\"type\"].transform(len)"
   ]
  },
  {
   "cell_type": "code",
   "execution_count": null,
   "metadata": {},
   "outputs": [],
   "source": [
    "pl_df = pl.from_pandas(df)"
   ]
  },
  {
   "cell_type": "code",
   "execution_count": null,
   "metadata": {},
   "outputs": [],
   "source": [
    "pl_df.head()"
   ]
  },
  {
   "cell_type": "code",
   "execution_count": null,
   "metadata": {},
   "outputs": [],
   "source": [
    "pl_df = pl.from_pandas(df)\n",
    "#pl_df.select([\n",
    "#    pl.all(),\n",
    "#    pl.col(\"type\").count().over(\"c\").alias(\"size\")\n",
    "#])\n"
   ]
  },
  {
   "cell_type": "code",
   "execution_count": null,
   "metadata": {},
   "outputs": [],
   "source": [
    "pl_df.columns"
   ]
  },
  {
   "cell_type": "code",
   "execution_count": null,
   "metadata": {},
   "outputs": [],
   "source": [
    "pl_df['type']"
   ]
  },
  {
   "cell_type": "code",
   "execution_count": null,
   "metadata": {},
   "outputs": [],
   "source": [
    "pl_df.select([\n",
    "    #pl.all(), pl.col('type')]),\n",
    "    pl.all(),\n",
    "    pl.col(\"type\").alias(\"size\").count().over(\"c\").alias('typeCount'),\n",
    "    ]\n",
    ")"
   ]
  },
  {
   "cell_type": "code",
   "execution_count": 13,
   "metadata": {},
   "outputs": [],
   "source": [
    "import polars as pl\n",
    "\n",
    "# to enrich the examples in this quickstart with dates\n",
    "from datetime import datetime, timedelta, date\n",
    "# to generate data for the examples\n",
    "import numpy as np \n"
   ]
  },
  {
   "cell_type": "code",
   "execution_count": 14,
   "metadata": {},
   "outputs": [
    {
     "data": {
      "text/html": [
       "<div>\n",
       "<style scoped>\n",
       "    .dataframe tbody tr th:only-of-type {\n",
       "        vertical-align: middle;\n",
       "    }\n",
       "\n",
       "    .dataframe tbody tr th {\n",
       "        vertical-align: top;\n",
       "    }\n",
       "\n",
       "    .dataframe thead th {\n",
       "        text-align: right;\n",
       "    }\n",
       "\n",
       "    .dataframe td {\n",
       "        white-space: pre;\n",
       "    }\n",
       "\n",
       "    .dataframe td {\n",
       "        padding-top: 0;\n",
       "    }\n",
       "\n",
       "    .dataframe td {\n",
       "        padding-bottom: 0;\n",
       "    }\n",
       "</style>\n",
       "<table border=\"1\" class=\"dataframe\">\n",
       "<small>shape: (3, 3)</small>\n",
       "<thead>\n",
       "<tr>\n",
       "<th>\n",
       "dt\n",
       "</th>\n",
       "<th>\n",
       "x\n",
       "</th>\n",
       "<th>\n",
       "y\n",
       "</th>\n",
       "</tr>\n",
       "<tr>\n",
       "<td>\n",
       "date\n",
       "</td>\n",
       "<td>\n",
       "f64\n",
       "</td>\n",
       "<td>\n",
       "f64\n",
       "</td>\n",
       "</tr>\n",
       "</thead>\n",
       "<tbody>\n",
       "<tr>\n",
       "<td>\n",
       "2022-09-01\n",
       "</td>\n",
       "<td>\n",
       "3.5\n",
       "</td>\n",
       "<td>\n",
       "10.0\n",
       "</td>\n",
       "</tr>\n",
       "<tr>\n",
       "<td>\n",
       "2022-09-02\n",
       "</td>\n",
       "<td>\n",
       "4.0\n",
       "</td>\n",
       "<td>\n",
       "2.5\n",
       "</td>\n",
       "</tr>\n",
       "<tr>\n",
       "<td>\n",
       "2022-09-03\n",
       "</td>\n",
       "<td>\n",
       "1.0\n",
       "</td>\n",
       "<td>\n",
       "1.5\n",
       "</td>\n",
       "</tr>\n",
       "</tbody>\n",
       "</table>\n",
       "</div>"
      ],
      "text/plain": [
       "shape: (3, 3)\n",
       " dt          x    y    \n",
       " ---         ---  ---  \n",
       " date        f64  f64  \n",
       " 2022-09-01  3.5  10.0 \n",
       " 2022-09-02  4.0  2.5  \n",
       " 2022-09-03  1.0  1.5  "
      ]
     },
     "execution_count": 14,
     "metadata": {},
     "output_type": "execute_result"
    }
   ],
   "source": [
    "df1 = pl.DataFrame(\n",
    "    {\n",
    "        \"dt\": [date(2022, 9, 1), date(2022, 9, 2), date(2022, 9, 3)],\n",
    "        \"x\": [3.5, 4.0, 1.0],\n",
    "        \"y\": [10.0, 2.5, 1.5],\n",
    "    }\n",
    ")\n",
    "df2 = pl.DataFrame(\n",
    "    {\n",
    "        \"dt\": [date(2022, 9, 2), date(2022, 9, 3), date(2022, 9, 1)],\n",
    "        \"x\": [8.0, 1.0, 3.5],\n",
    "        \"y\": [1.5, 12.0, 5.0],\n",
    "    }\n",
    ")\n",
    "df3 = pl.DataFrame(\n",
    "    {\n",
    "        \"dt\": [date(2022, 9, 3), date(2022, 9, 2)],\n",
    "        \"x\": [2.0, 5.0],\n",
    "        \"y\": [2.5, 2.0],\n",
    "    }\n",
    ")  \n",
    "\n",
    "#pl.Config.set_tbl_formatting(\"UTF8_FULL\")  \n",
    "#pl.Config.set_tbl_formatting(\"ASCII_MARKDOWN\")  \n",
    "#pl.Config.set_tbl_formatting(\"NOTHING\")  \n",
    "\n",
    "#cfg = pl.Config.restore_defaults()  \n",
    "#df1 = df1.with_column(pl.col('dt').str.strptime(pl.Date, fmt='%y-%m-%d').cast(pl.Datetime))\n",
    "#df1 = df1.with_column(\n",
    "#    pl.col(\"dt\").cast(pl.Date)\n",
    "#)\n",
    "\n",
    "#df1 = df1.with_column(pl.col(\"dt\").cast(pl.Datetime, strict=False))\n",
    "\n",
    "df1.head()\n",
    "\n",
    "\n"
   ]
  },
  {
   "cell_type": "code",
   "execution_count": 15,
   "metadata": {},
   "outputs": [],
   "source": [
    "af1, af2, af3 = pl.align_frames(\n",
    "    df1, df2, df3, on=\"dt\"\n",
    ")  "
   ]
  },
  {
   "cell_type": "code",
   "execution_count": 16,
   "metadata": {},
   "outputs": [],
   "source": [
    "af1, af2, af3 = pl.align_frames(\n",
    "    df1, df2, df3, on=\"dt\", select=[\"x\", \"y\"]\n",
    ")  "
   ]
  },
  {
   "cell_type": "code",
   "execution_count": 17,
   "metadata": {},
   "outputs": [
    {
     "data": {
      "text/html": [
       "<div>\n",
       "<style scoped>\n",
       "    .dataframe tbody tr th:only-of-type {\n",
       "        vertical-align: middle;\n",
       "    }\n",
       "\n",
       "    .dataframe tbody tr th {\n",
       "        vertical-align: top;\n",
       "    }\n",
       "\n",
       "    .dataframe thead th {\n",
       "        text-align: right;\n",
       "    }\n",
       "\n",
       "    .dataframe td {\n",
       "        white-space: pre;\n",
       "    }\n",
       "\n",
       "    .dataframe td {\n",
       "        padding-top: 0;\n",
       "    }\n",
       "\n",
       "    .dataframe td {\n",
       "        padding-bottom: 0;\n",
       "    }\n",
       "</style>\n",
       "<table border=\"1\" class=\"dataframe\">\n",
       "<small>shape: (3, 1)</small>\n",
       "<thead>\n",
       "<tr>\n",
       "<th>\n",
       "dot\n",
       "</th>\n",
       "</tr>\n",
       "<tr>\n",
       "<td>\n",
       "f64\n",
       "</td>\n",
       "</tr>\n",
       "</thead>\n",
       "<tbody>\n",
       "<tr>\n",
       "<td>\n",
       "0.0\n",
       "</td>\n",
       "</tr>\n",
       "<tr>\n",
       "<td>\n",
       "167.5\n",
       "</td>\n",
       "</tr>\n",
       "<tr>\n",
       "<td>\n",
       "47.0\n",
       "</td>\n",
       "</tr>\n",
       "</tbody>\n",
       "</table>\n",
       "</div>"
      ],
      "text/plain": [
       "shape: (3, 1)\n",
       " dot   \n",
       " ---   \n",
       " f64   \n",
       " 0.0   \n",
       " 167.5 \n",
       " 47.0  "
      ]
     },
     "execution_count": 17,
     "metadata": {},
     "output_type": "execute_result"
    }
   ],
   "source": [
    "(af1 * af2 * af3).fill_null(0).select(pl.sum(pl.col(\"*\")).alias(\"dot\"))"
   ]
  },
  {
   "cell_type": "code",
   "execution_count": null,
   "metadata": {},
   "outputs": [],
   "source": [
    "#import polars as pl\n",
    "\n",
    "dataset = pl.DataFrame({\"date\": [\"2020-01-02\", \"2020-01-03\", \"2020-01-04\"], \"index\": [1, 2, 3]})\n",
    "\n",
    "q = dataset.lazy().with_column(pl.col(\"date\").str.strptime(pl.Date, \"%Y-%m-%d\"))\n",
    "\n",
    "df = q.collect()\n",
    "df.head()"
   ]
  },
  {
   "cell_type": "code",
   "execution_count": null,
   "metadata": {},
   "outputs": [],
   "source": []
  },
  {
   "cell_type": "code",
   "execution_count": null,
   "metadata": {},
   "outputs": [],
   "source": [
    "df2.head()"
   ]
  },
  {
   "cell_type": "code",
   "execution_count": null,
   "metadata": {},
   "outputs": [],
   "source": [
    "df3"
   ]
  },
  {
   "cell_type": "code",
   "execution_count": null,
   "metadata": {},
   "outputs": [],
   "source": [
    "# align frames by the \"dt\" column:\n",
    "af1, af2, af3 = pl.align_frames(\n",
    "    df1, df2, df3, on=\"dt\"\n",
    ")"
   ]
  },
  {
   "attachments": {},
   "cell_type": "markdown",
   "metadata": {},
   "source": [
    "# Done - ZZZZZZ"
   ]
  },
  {
   "attachments": {},
   "cell_type": "markdown",
   "metadata": {},
   "source": [
    "## Query optimization\n",
    "In lazy mode the query optimizer may be able to optimize the query based on the expressions.\n",
    "\n",
    "In this example we scan a CSV file with many columns using scan_csv and then select a subset of them. The query optimizer creates a query plan that causes only the selected columns to be read from the CSV - see how the Project part of the query plan below states that only 1 of 2 columns will be read:"
   ]
  },
  {
   "cell_type": "code",
   "execution_count": null,
   "metadata": {},
   "outputs": [],
   "source": [
    "lazy_select_df = pl.scan_csv(\"data/appleStock.csv\").select([\"Date\"])\n",
    "print(lazy_select_df.describe_optimized_plan())"
   ]
  },
  {
   "cell_type": "code",
   "execution_count": null,
   "metadata": {},
   "outputs": [],
   "source": []
  }
 ],
 "metadata": {
  "kernelspec": {
   "display_name": "polars1",
   "language": "python",
   "name": "python3"
  },
  "language_info": {
   "codemirror_mode": {
    "name": "ipython",
    "version": 3
   },
   "file_extension": ".py",
   "mimetype": "text/x-python",
   "name": "python",
   "nbconvert_exporter": "python",
   "pygments_lexer": "ipython3",
   "version": "3.8.15"
  },
  "orig_nbformat": 4,
  "vscode": {
   "interpreter": {
    "hash": "a0c872ed1cccd243cd58654329d83d75328e32f4eed1caae87605c9582741cf9"
   }
  }
 },
 "nbformat": 4,
 "nbformat_minor": 2
}
